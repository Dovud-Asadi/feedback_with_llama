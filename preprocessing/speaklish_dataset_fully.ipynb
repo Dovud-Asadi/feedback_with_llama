{
  "nbformat": 4,
  "nbformat_minor": 0,
  "metadata": {
    "colab": {
      "provenance": []
    },
    "kernelspec": {
      "name": "python3",
      "display_name": "Python 3"
    },
    "language_info": {
      "name": "python"
    }
  },
  "cells": [
    {
      "cell_type": "markdown",
      "source": [
        "# **Preprocessing**"
      ],
      "metadata": {
        "id": "gs6dAuKIV5zL"
      }
    },
    {
      "cell_type": "code",
      "source": [
        "!pip install -q groq"
      ],
      "metadata": {
        "id": "YJS8VCScb-KK",
        "colab": {
          "base_uri": "https://localhost:8080/"
        },
        "outputId": "6173e218-809f-4b2c-98ba-d6e2a64cf898"
      },
      "execution_count": null,
      "outputs": [
        {
          "output_type": "stream",
          "name": "stdout",
          "text": [
            "\u001b[?25l   \u001b[90m━━━━━━━━━━━━━━━━━━━━━━━━━━━━━━━━━━━━━━━━\u001b[0m \u001b[32m0.0/103.5 kB\u001b[0m \u001b[31m?\u001b[0m eta \u001b[36m-:--:--\u001b[0m\r\u001b[2K   \u001b[90m━━━━━━━━━━━━━━━━━━━━━━━━━━━━━━━━━━━━━━━━\u001b[0m \u001b[32m103.5/103.5 kB\u001b[0m \u001b[31m2.8 MB/s\u001b[0m eta \u001b[36m0:00:00\u001b[0m\n",
            "\u001b[?25h\u001b[?25l   \u001b[90m━━━━━━━━━━━━━━━━━━━━━━━━━━━━━━━━━━━━━━━━\u001b[0m \u001b[32m0.0/75.6 kB\u001b[0m \u001b[31m?\u001b[0m eta \u001b[36m-:--:--\u001b[0m\r\u001b[2K   \u001b[90m━━━━━━━━━━━━━━━━━━━━━━━━━━━━━━━━━━━━━━━━\u001b[0m \u001b[32m75.6/75.6 kB\u001b[0m \u001b[31m3.6 MB/s\u001b[0m eta \u001b[36m0:00:00\u001b[0m\n",
            "\u001b[?25h\u001b[?25l   \u001b[90m━━━━━━━━━━━━━━━━━━━━━━━━━━━━━━━━━━━━━━━━\u001b[0m \u001b[32m0.0/77.9 kB\u001b[0m \u001b[31m?\u001b[0m eta \u001b[36m-:--:--\u001b[0m\r\u001b[2K   \u001b[90m━━━━━━━━━━━━━━━━━━━━━━━━━━━━━━━━━━━━━━━━\u001b[0m \u001b[32m77.9/77.9 kB\u001b[0m \u001b[31m4.1 MB/s\u001b[0m eta \u001b[36m0:00:00\u001b[0m\n",
            "\u001b[?25h\u001b[?25l   \u001b[90m━━━━━━━━━━━━━━━━━━━━━━━━━━━━━━━━━━━━━━━━\u001b[0m \u001b[32m0.0/58.3 kB\u001b[0m \u001b[31m?\u001b[0m eta \u001b[36m-:--:--\u001b[0m\r\u001b[2K   \u001b[90m━━━━━━━━━━━━━━━━━━━━━━━━━━━━━━━━━━━━━━━━\u001b[0m \u001b[32m58.3/58.3 kB\u001b[0m \u001b[31m2.6 MB/s\u001b[0m eta \u001b[36m0:00:00\u001b[0m\n",
            "\u001b[?25h"
          ]
        }
      ]
    },
    {
      "cell_type": "code",
      "execution_count": null,
      "metadata": {
        "id": "bJLLj610OSMK"
      },
      "outputs": [],
      "source": [
        "import pandas as pd\n",
        "import numpy as np\n",
        "import json\n",
        "import string\n",
        "import gdown\n",
        "from groq import Groq\n",
        "import os\n",
        "import re"
      ]
    },
    {
      "cell_type": "code",
      "source": [
        "file_id = 'FILE_ID'\n",
        "url = f'https://drive.google.com/uc?export=download&id={file_id}'\n",
        "gdown.download(url, quiet=False)"
      ],
      "metadata": {
        "id": "lTmEyUarDaUu"
      },
      "execution_count": null,
      "outputs": []
    },
    {
      "cell_type": "code",
      "source": [
        "df = pd.read_json(\"data 2.json\")"
      ],
      "metadata": {
        "id": "gqUz14O4O6d7"
      },
      "execution_count": null,
      "outputs": []
    },
    {
      "cell_type": "code",
      "source": [
        "part1_df = df[df.model == \"api.part1question\"]\n",
        "part2_df = df[df.model == \"api.part2question\"]\n",
        "part3_df = df[df.model == \"api.part3question\"]\n",
        "\n",
        "part1_answers_df = df[df.model == \"school_api.schoolpart1result\"]\n",
        "part2_answers_df = df[df.model == \"school_api.schoolpart2result\"]\n",
        "part3_answers_df = df[df.model == \"school_api.schoolpart3result\"]\n",
        "\n",
        "parsed_df = df[df.model == \"school_api.parsedsession\"]"
      ],
      "metadata": {
        "id": "mDF7aja7Pou4"
      },
      "execution_count": null,
      "outputs": []
    },
    {
      "cell_type": "code",
      "source": [
        "def splitter(df):\n",
        "    df_expanded = pd.concat([df.drop(columns=['fields']), df['fields'].apply(pd.Series)], axis=1)\n",
        "    df_expanded = df_expanded[['pk', 'question_txt']]\n",
        "    df_expanded = df_expanded.reset_index(drop=True)\n",
        "\n",
        "    return df_expanded"
      ],
      "metadata": {
        "id": "2ezqb4oNPsKM"
      },
      "execution_count": null,
      "outputs": []
    },
    {
      "cell_type": "code",
      "source": [
        "def splitter_answers(df):\n",
        "    df_expanded = pd.concat([df.drop(columns=['fields']), df['fields'].apply(pd.Series)], axis=1)\n",
        "    df_expanded = df_expanded[[\"session\", 'answer',  'question']]\n",
        "    df_expanded = df_expanded.dropna(subset=['answer'])\n",
        "    df_expanded = df_expanded.reset_index(drop=True)\n",
        "\n",
        "    return df_expanded"
      ],
      "metadata": {
        "id": "xbwrZyydPs6C"
      },
      "execution_count": null,
      "outputs": []
    },
    {
      "cell_type": "code",
      "source": [
        "def splitter_parsed(df):\n",
        "    df_expanded = pd.concat([df.drop(columns=['fields']), df['fields'].apply(pd.Series)], axis=1)\n",
        "    df_expanded = df_expanded[['session', 'raw_json', \"parsed_json\", \"feedback\", \"band_score\"]]\n",
        "    df_expanded = df_expanded.reset_index(drop=True)\n",
        "\n",
        "    return df_expanded"
      ],
      "metadata": {
        "id": "_9cxmJFHPwjM"
      },
      "execution_count": null,
      "outputs": []
    },
    {
      "cell_type": "code",
      "source": [
        "df_part1_ques_df = splitter(part1_df)\n",
        "df_part2_ques_df = splitter(part2_df)\n",
        "df_part3_ques_df = splitter(part3_df)\n",
        "\n",
        "df_part1_ans_df = splitter_answers(part1_answers_df)\n",
        "df_part2_ans_df = splitter_answers(part2_answers_df)\n",
        "df_part3_ans_df = splitter_answers(part3_answers_df)\n",
        "\n",
        "df_parsed = splitter_parsed(parsed_df)"
      ],
      "metadata": {
        "id": "TmxQ_m32Pycr"
      },
      "execution_count": null,
      "outputs": []
    },
    {
      "cell_type": "markdown",
      "source": [
        "## **Merging**"
      ],
      "metadata": {
        "id": "XRQo9YiWbQal"
      }
    },
    {
      "cell_type": "code",
      "source": [
        "def merged_df(df1, df2):\n",
        "    merged_df = pd.merge(df1, df2, left_on='pk', right_on='question', how='inner')\n",
        "\n",
        "    return merged_df\n",
        "\n",
        "merged_df_1 = merged_df(df_part1_ques_df, df_part1_ans_df)\n",
        "merged_df_2 = merged_df(df_part2_ques_df, df_part2_ans_df)\n",
        "merged_df_3 = merged_df(df_part3_ques_df, df_part3_ans_df)"
      ],
      "metadata": {
        "id": "jHbEmn1DQKA5"
      },
      "execution_count": null,
      "outputs": []
    },
    {
      "cell_type": "code",
      "source": [
        "final_ques_ans = pd.concat([merged_df_1, merged_df_2, merged_df_3], axis=0, ignore_index=True)"
      ],
      "metadata": {
        "id": "sBNwnyazQORs"
      },
      "execution_count": null,
      "outputs": []
    },
    {
      "cell_type": "markdown",
      "source": [
        "## **Saving 100 data in .txt files in data folder**"
      ],
      "metadata": {
        "id": "5818j98fbWxu"
      }
    },
    {
      "cell_type": "markdown",
      "source": [
        "```\n",
        "- examiner: <questions by examiner>\n",
        "- candidate: <answered voice transcript>\n",
        "------------------ part_1 ---------\n",
        "- examiner: <questions by examiner>\n",
        "- candidate: <answered voice transcript>\n",
        "------------------ part_2 ---------\n",
        "- examiner: <questions by examiner>\n",
        "- candidate: <answered voice transcript>\n",
        "------------------ part_3 ---------\n",
        "- examiner: <questions by examiner>\n",
        "```\n",
        "\n"
      ],
      "metadata": {
        "id": "AnDSe7P6JGZL"
      }
    },
    {
      "cell_type": "code",
      "source": [
        "output_directory = 'data'\n",
        "os.makedirs(output_directory, exist_ok=True)\n",
        "\n",
        "grouped = final_ques_ans.groupby('session')\n",
        "\n",
        "def split_based_on_pk_order(data):\n",
        "    parts = []\n",
        "    part = []\n",
        "\n",
        "    for i in range(len(data)):\n",
        "        if i == 0 or data['pk'].iloc[i] == data['pk'].iloc[i-1] + 1:\n",
        "            part.append(data.iloc[i])\n",
        "        else:\n",
        "            parts.append(part)\n",
        "            part = [data.iloc[i]]\n",
        "\n",
        "    if part:\n",
        "        parts.append(part)\n",
        "\n",
        "    return parts\n",
        "\n",
        "def format_output(parts):\n",
        "    output = \"\"\n",
        "\n",
        "    for i, part in enumerate(parts):\n",
        "        output += f\"------------------ part_{i+1} ---------\\n\"\n",
        "        for row in part:\n",
        "            questions = row['question_txt']\n",
        "            answer = row['answer']\n",
        "            output += f\"- examiner: {questions}.\\n candidate: {answer}\\n\"\n",
        "\n",
        "    return output\n",
        "\n",
        "for session, data in grouped:\n",
        "\n",
        "    parts = split_based_on_pk_order(data)\n",
        "    formatted_output = format_output(parts)\n",
        "\n",
        "    with open(os.path.join(output_directory, f'session_{session}.txt'), 'w') as file:\n",
        "        file.write(formatted_output)\n",
        "\n",
        "\n",
        "print(\"Processing complete. Files saved in the 'data' directory.\")"
      ],
      "metadata": {
        "colab": {
          "base_uri": "https://localhost:8080/"
        },
        "id": "YrQvqAz7br6W",
        "outputId": "d9097de7-39e8-4e8c-f0c0-4efe66eb1a8e"
      },
      "execution_count": null,
      "outputs": [
        {
          "output_type": "stream",
          "name": "stdout",
          "text": [
            "Processing complete. Files saved in the 'data' directory.\n"
          ]
        }
      ]
    },
    {
      "cell_type": "markdown",
      "source": [
        "# **Groq (model: llama3-70b-8192)**"
      ],
      "metadata": {
        "id": "3nTRFdVrV3W8"
      }
    },
    {
      "cell_type": "code",
      "source": [
        "client = Groq(\n",
        "    api_key=\"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\",\n",
        ")"
      ],
      "metadata": {
        "id": "z-ZAJ7zlVhZj"
      },
      "execution_count": null,
      "outputs": []
    },
    {
      "cell_type": "markdown",
      "source": [
        "## **System Message (Original and Modified version)**"
      ],
      "metadata": {
        "id": "QC8A2F77br-f"
      }
    },
    {
      "cell_type": "code",
      "source": [
        "system_message_original = {\n",
        "    \"role\": \"system\",\n",
        "    \"content\": \"\"\"\n",
        "    Act like an IELTS Speaking examiner, and you will be given transcripts of IELTS Speaking dialog which you must NEATLY evaluate based on all IELTS criteria. Please, strictly look at the criteria of IELTS Speaking which include: Fluency and coherence, Lexical Resource, Grammar Range, and Accuracy and Pronunciation. For Accuracy and Pronunciation, must consider given Pronunciation Assessment. For each criteria, you should give scores from 0-9 . Provide EXACT overall band score based on all four aspects of IELTS Speaking exam. Besides, you should provide concise feedback STRICTLY following listed rules\n",
        "Your feedback should be personalized and specific\n",
        "Mention specific mistakes only\n",
        "Evaluate Fluency and Suggest how it could be improved\n",
        "Assess the way a student is using Lexical Resource and quote in which parts it could be boosted with alternatives and collocations.\n",
        "Carefully examine transition and flow between ideas and suggest better usage of cohesive devices.\n",
        "PLEASE FOLLOW THE PROVIDED FINAL OUTPUT STRUCTURE\n",
        "in the output and the EXACT Overall band score pointing to 4 aspects separately as (MUST-HAVE): FLUENCY, VOCABULARY, GRAMMAR, PRONUNCIATION if and only if the conversation contains 3 complete parts. here is the transcript structure:\n",
        "- examiner: <questions by examiner>\n",
        "- candidate: <answered voice transcript>\n",
        "there is the pronunciation_assessment graded by the examiner in natural conversation in the END:\n",
        "pronunciation_assessment:\n",
        "- pronunciation_score: <float> out of 100 (final one)\n",
        "- accuracy_score: <float> out of 100\n",
        "- fluency_score: <float> out of 100\n",
        "- completeness_score : <float> out of 100\n",
        "- mispronounced_words: list of words\n",
        "\n",
        "\n",
        "Final output structure:\n",
        "Feedback :<Feedback>\n",
        "\n",
        "Band score: <>\n",
        "Fluency: <Fluency>\n",
        "Vocabulary: <Vocabulary >\n",
        "Grammar: <Grammar>\n",
        "Pronunciation: <Pronunciation>\n",
        "\n",
        "Specific topic-words used by candidate(worth-to-mention):\n",
        "\n",
        "Suggested less used topic-related words, idioms or collocations :<|eot_id|>\n",
        "<|start_header_id|>user<|end_header_id|>\n",
        "\n",
        "\n",
        "- examiner: <questions by examiner>\n",
        "- candidate: <answered voice transcript>\n",
        "------------------ part_1 ---------\n",
        "- examiner: <questions by examiner>\n",
        "- candidate: <answered voice transcript>\n",
        "------------------ part_2 ---------\n",
        "- examiner: <questions by examiner>\n",
        "- candidate: <answered voice transcript>\n",
        "------------------ part_3 ---------\n",
        "- examiner: <questions by examiner>\n",
        "\n",
        "\n",
        "\n",
        "- candidate: <answered voice transcript><|eot_id|>\n",
        "\n",
        "\n",
        "<|start_header_id|>assistant<|end_header_id|>\n",
        "    \"\"\"\n",
        "}"
      ],
      "metadata": {
        "id": "TUK8oq4gWBKt"
      },
      "execution_count": null,
      "outputs": []
    },
    {
      "cell_type": "code",
      "source": [
        "system_message_modified = {\n",
        "    \"role\": \"system\",\n",
        "    \"content\": \"\"\"\n",
        "    Act as an IELTS Speaking examiner. You will be provided with transcripts of IELTS Speaking dialogues, which you must evaluate NEATLY based on all IELTS criteria. The criteria include: Fluency and Coherence, Lexical Resource, Grammatical Range and Accuracy, and Pronunciation. Consider the provided Pronunciation Assessment for Pronunciation evaluation.\n",
        "\n",
        "    For each criterion, assign a score from 0 to 9. Calculate the EXACT overall band score based on the four criteria of the IELTS Speaking exam. Additionally, provide concise feedback STRICTLY following the rules outlined below:\n",
        "\n",
        "    1. Personalize your feedback and make it specific to the candidate's performance.\n",
        "    2. Mention specific mistakes.\n",
        "    3. Evaluate Fluency and suggest how it could be improved.\n",
        "    4. Assess the use of Lexical Resource, quoting specific parts where improvements with alternatives and collocations are possible.\n",
        "    5. Carefully examine the transition and flow between ideas, suggesting better usage of cohesive devices.\n",
        "\n",
        "    Ensure you FOLLOW the PROVIDED FINAL OUTPUT STRUCTURE for your evaluation. The overall band score must be separated into the four aspects: FLUENCY, VOCABULARY, GRAMMAR, and PRONUNCIATION. This structure should only be followed if the conversation contains all 3 complete parts. The transcript structure is as follows:\n",
        "\n",
        "    - examiner: <questions by examiner>\n",
        "    - candidate: <answered voice transcript>\n",
        "\n",
        "    If provided, include the pronunciation_assessment at the end:\n",
        "    pronunciation_assessment:\n",
        "    - pronunciation_score: <float> out of 100\n",
        "    - accuracy_score: <float> out of 100\n",
        "    - fluency_score: <float> out of 100\n",
        "    - completeness_score : <float> out of 100\n",
        "    - mispronounced_words: <list of words>\n",
        "\n",
        "    Final output structure:\n",
        "    Feedback: <Feedback>\n",
        "\n",
        "    Band score: <Overall Band Score>\n",
        "    Fluency: <Fluency Score>\n",
        "    Vocabulary: <Vocabulary Score>\n",
        "    Grammar: <Grammar Score>\n",
        "    Pronunciation: <Pronunciation Score>\n",
        "\n",
        "    Specific topic-words used by the candidate (worth mentioning):\n",
        "\n",
        "    Suggested less used topic-related words, idioms, or collocations:\n",
        "\n",
        "    Transcript Structure:\n",
        "    ------------------ part_1 ---------\n",
        "    - examiner: <questions by examiner>\n",
        "    - candidate: <answered voice transcript>\n",
        "    ------------------ part_2 ---------\n",
        "    - examiner: <questions by examiner>\n",
        "    - candidate: <answered voice transcript>\n",
        "    ------------------ part_3 ---------\n",
        "    - examiner: <questions by examiner>\n",
        "    - candidate: <answered voice transcript>\n",
        "    \"\"\"\n",
        "}\n"
      ],
      "metadata": {
        "id": "0LPLywgT4_T9"
      },
      "execution_count": null,
      "outputs": []
    },
    {
      "cell_type": "markdown",
      "source": [
        "## **One shot example**"
      ],
      "metadata": {
        "id": "DTf7e86cb7Lr"
      }
    },
    {
      "cell_type": "code",
      "source": [
        "content_user = \"\"\"\n",
        "------------------ part_1 ---------\n",
        "- examiner: How often do you wear jewelry?.\n",
        " candidate: well I really like to wear jewelry it just can complete your style and it's really it look very beautiful I can't go out without jewelry and always should be in my always should be I should wear the jewelry especially which my mom gave to me and also the complex complex\n",
        "- examiner: What type of jewelry do you like to wear?.\n",
        " candidate: Well, I really like to wear the chain, bracelet and also the ring from the How to say it? Brilliant, huh? I really interested to wear the jewelry from the beasters\n",
        "- examiner: Do you usually buy jewelery?.\n",
        " candidate: No, I don't like to buy the jewelry because I have the money only to the same jewelry and every time I lose this jewelry which I buy from myself. I never lose the jewelry which someone do present to me.\n",
        "- examiner: Why do you think some people wear a piece of jewelry for a long time?.\n",
        " candidate: I don't know, it may be someone present, a really darling person present to them, this jewelry, or from this jewelry they can, they can, they can remain about something\n",
        "------------------ part_2 ---------\n",
        "- examiner: Describe an occasion when you got incorrect information.\n",
        "\n",
        " You should say:\n",
        " • why you need this information\n",
        " • how you got it\n",
        " • how you found it was incorrect\n",
        " • and how you felt about this experience..\n",
        " candidate: Well, I'm going to talk about the occasion when I got incorrect information. Well, it was 2 years ago when I was in the 9th grade and it was the exams after the school graduation exams and after that I should enter the university. Well, we had overall 20 exams but 14 exams was in between 6th of May and my friend said me no that time I haven't I hadn't my own mobile phone and my friend said me that the test exam started at 11. Guys, what do you think and I and this day is came and I went to the school and look there is the no one from the my class there is the another pure another pupils from the another class which they graduated 11th grade but 9th grade which there is no one my friend said me incorrect information at starting time it started at night and when when I came it's just ended I was very angry I don't I didn't know I should cry or smile I mean I should I think I thought that I saw that I should smile because I I wouldn't to I wouldn't to enter I wouldn't I hadn't the exams it was really difficult and what I want why I wanted to cry because I shouldn't to enter the university to you and to entering to university to this room you needed the paper which wrote you have done have done all your exams well what do you mean what do you think I lost the time and just I I shouldn't study at school 10th and 11th grade notice I'm in 11th grade I'm happy that I'm graduating I'm graduating and I believe I strongly believe that this year I will check the time of exams from myself I wouldn't believe to someone\n",
        "------------------ part_3 ---------\n",
        "- examiner: What is the difference between providing information by phone and by email?.\n",
        " candidate: Well, there is a lot of kinds of professions which related to giving information to others. For example, reporters. The reporters giving information about the news, about another countries, happening in the countries, to the people from the TV. And second is the teachers, teachers giving the knowledge, and they teach the students, and they give information which they know, and they wanted to be their students better than they. And third one is the doctors, especially actually doctors giving the information for the people who come them, who ill, they are write instructions and medicines, in what time, when they should drink their medicines, they write medicines which they can buy.\n",
        "- examiner: How can people check whether a piece of information is correct or not?.\n",
        " candidate: The difference between providing information by phone and by mail is that by mail it's more easier because by mail you can just send text, send information to the people who you want. Not only one people, you can send it in the first time to ten or more people. It's so fast and more comfortable than by phone. These people check their email very fast. By phone it's more difficult than by email. By phone you should call by one person.\n",
        "- examiner: Do people trust the information online?.\n",
        " candidate: Truth. Do people trust the information online? Yes, some people really do trust the information online. They not only trust the information online, they trust it just from the gaps or sentences they listen from other people. But in some cases, there are different people who don't believe the online and the people's sentences. They believe what they saw.\n",
        "\"\"\"\n",
        "\n",
        "content_assis = \"\"\"\n",
        " \"Feedback:\\nThe candidate's responses show a basic level of communication with frequent grammatical errors and limited vocabulary. The use of cohesive devices is minimal, and transitions between ideas are often abrupt or unclear.\\n\\nFluency: The candidate hesitates frequently, repeats words (\\\"I really like to wear the jewelry\\\"), and self-corrects often, which disrupts the flow of speech. There are also instances of incomplete sentences and unclear thoughts, especially in Part 2, which affects the overall fluency.\\n\\nVocabulary: The range of vocabulary is limited, and there are instances of incorrect word choices (\\\"beasters\\\" instead of \\\"beads\\\" or \\\"gemstones\\\"). The candidate could benefit from using a wider range of topic-specific vocabulary and more precise terms.\\n\\nGrammar: There are numerous grammatical mistakes, including incorrect verb tenses (\\\"I should wear the jewelry\\\"), subject-verb agreement issues (\\\"this jewelry they can, they can, they can remain about something\\\"), and incorrect sentence structures. The use of modal verbs is also incorrect at times (\\\"I wouldn't to enter\\\").\\n\\nPronunciation: The transcript does not provide enough information to accurately assess pronunciation.\\n\\nBand score:5.0 \\nFluency: 5.0\\nVocabulary: 5.0\\nGrammar: 4.5\\nPronunciation: 5.0\\n\\nSpecific topic-words used by candidate (worth-to-mention):\\n- Jewelry\\n- Chain\\n- Bracelet\\n- Ring\\n- Brilliant\\n\\nSuggested less used topic-related words, idioms or collocations:\\n- Accessorize (as a verb, e.g., \\\"I like to accessorize with jewelry.\\\")\\n- Gemstones (instead of \\\"brilliant\\\")\\n- Keepsake (for a piece of jewelry with sentimental value)\\n- Timepiece (for a watch)\\n- Heirloom (for jewelry passed down through generations)\\n- \\\"Lose track of\\\" (instead of \\\"lose this jewelry\\\")\\n- \\\"Misplace\\\" (a more accurate verb for losing something)\\n- \\\"Cherished gift\\\" (instead of \\\"someone present to me\\\")\\n- \\\"Hold sentimental value\\\" (instead of \\\"they can remain about something\\\")\n",
        " \"\"\"\n",
        "\n",
        "one_shot_examples = [\n",
        "    {\"role\": \"user\", \"content\": content_user},\n",
        "    {\"role\": \"assistant\", \"content\": content_assis}\n",
        "]"
      ],
      "metadata": {
        "id": "OYXuv8zWhHek"
      },
      "execution_count": null,
      "outputs": []
    },
    {
      "cell_type": "markdown",
      "source": [
        "## **Groq Chat Completions**"
      ],
      "metadata": {
        "id": "HA6nO90hcADD"
      }
    },
    {
      "cell_type": "code",
      "source": [
        "directory = '/content/data'\n",
        "\n",
        "all_feedback = []"
      ],
      "metadata": {
        "id": "MLhBKTNeoZTi"
      },
      "execution_count": null,
      "outputs": []
    },
    {
      "cell_type": "code",
      "source": [
        "for filename in os.listdir(directory):\n",
        "    if filename.endswith(\".txt\"):\n",
        "        with open(os.path.join(directory, filename), 'r') as file:\n",
        "            transcript = file.read()\n",
        "\n",
        "            user_message = {\n",
        "                \"role\": \"user\",\n",
        "                \"content\": transcript\n",
        "            }\n",
        "\n",
        "            chat_completion = client.chat.completions.create(\n",
        "                model=\"llama3-70b-8192\",\n",
        "                messages=[\n",
        "                    system_message_modified,\n",
        "                    *one_shot_examples,\n",
        "                    user_message\n",
        "                ],\n",
        "                max_tokens=1024,\n",
        "                temperature=0.7\n",
        "            )\n",
        "\n",
        "            model_response = chat_completion.choices[0].message.content\n",
        "\n",
        "            session_number = ''.join(filter(str.isdigit, filename))\n",
        "\n",
        "            all_feedback.append({\n",
        "                \"session\": session_number,\n",
        "                \"feedback\": model_response\n",
        "            })"
      ],
      "metadata": {
        "id": "4HHRBYc3YIzu"
      },
      "execution_count": null,
      "outputs": []
    },
    {
      "cell_type": "code",
      "source": [
        "with open('all_feedback_responses_with_assit.json', 'w') as output_file:\n",
        "    json.dump(all_feedback, output_file, indent=4)\n",
        "\n",
        "print(\"All feedback responses saved to all_feedback_responses.json.\")"
      ],
      "metadata": {
        "id": "dbziqQMooflA"
      },
      "execution_count": null,
      "outputs": []
    },
    {
      "cell_type": "markdown",
      "source": [
        "# **Final Preprocessing**"
      ],
      "metadata": {
        "id": "3o5OyYBDuC6b"
      }
    },
    {
      "cell_type": "code",
      "source": [
        "data = []\n",
        "for filename in os.listdir(directory):\n",
        "    if filename.endswith(\".txt\"):\n",
        "        session_number = ''.join(filter(str.isdigit, filename))\n",
        "        with open(os.path.join(directory, filename), 'r') as file:\n",
        "            content = file.read()\n",
        "            data.append({'session': session_number, 'content': content})\n",
        "\n",
        "df_txt = pd.DataFrame(data)"
      ],
      "metadata": {
        "id": "H-Tpt0rCcUH6"
      },
      "execution_count": null,
      "outputs": []
    },
    {
      "cell_type": "code",
      "source": [
        "df_json = pd.read_json(\"/content/all_feedback_responses_with_assit.json\")"
      ],
      "metadata": {
        "id": "zTOr1sZXca2r"
      },
      "execution_count": null,
      "outputs": []
    },
    {
      "cell_type": "code",
      "source": [
        "df_txt['session'] = df_txt['session'].astype('int64')"
      ],
      "metadata": {
        "id": "zMT_6U34ck3G"
      },
      "execution_count": null,
      "outputs": []
    },
    {
      "cell_type": "code",
      "source": [
        "merged_df_full = pd.merge(df_txt, df_json, on='session', how='inner')"
      ],
      "metadata": {
        "id": "MaNIn253cfYn"
      },
      "execution_count": null,
      "outputs": []
    },
    {
      "cell_type": "code",
      "source": [
        "merged_df_full = pd.merge(merged_df_full, df_parsed, on='session', how='left')"
      ],
      "metadata": {
        "id": "XOGHqfK9cqiy"
      },
      "execution_count": null,
      "outputs": []
    },
    {
      "cell_type": "code",
      "source": [
        "merged_df_full = merged_df_full.rename(columns={'content': 'transcript', 'feedback_x': 'feedback_llama', 'raw_json': 'feedback_gpt', \"band_score\": \"band_score_gpt\"})\n",
        "merged_df_full.drop(columns=['parsed_json', 'feedback_y'], inplace=True)"
      ],
      "metadata": {
        "id": "rffxO0vTcuR7"
      },
      "execution_count": null,
      "outputs": []
    },
    {
      "cell_type": "code",
      "source": [
        "def extract_band_score(feedback):\n",
        "  match = re.search(r\"Band score:\\s*(\\d+\\.\\d+)\", feedback)\n",
        "  if match:\n",
        "    return float(match.group(1))\n",
        "  else:\n",
        "    return None\n",
        "\n",
        "merged_df_full['band_score_llama'] = merged_df_full['feedback_llama'].apply(extract_band_score)"
      ],
      "metadata": {
        "id": "jKOm0v5zczDc"
      },
      "execution_count": null,
      "outputs": []
    },
    {
      "cell_type": "code",
      "source": [
        "merged_df_full.to_csv('feedback_llama_gpt_with_scores.csv', index=False)"
      ],
      "metadata": {
        "id": "GphhdU9RdAaX"
      },
      "execution_count": null,
      "outputs": []
    },
    {
      "cell_type": "markdown",
      "source": [
        "# **Archive (No longer needed)**"
      ],
      "metadata": {
        "id": "omi2rKX9cf79"
      }
    },
    {
      "cell_type": "code",
      "source": [
        "merged_df_full = pd.merge(final_ques_ans, df_parsed, on='session', how='left')"
      ],
      "metadata": {
        "id": "RKzdVzzwQQfi"
      },
      "execution_count": null,
      "outputs": []
    },
    {
      "cell_type": "code",
      "source": [
        "new_df = merged_df_full.dropna()"
      ],
      "metadata": {
        "id": "lTmJX93ERADA"
      },
      "execution_count": null,
      "outputs": []
    },
    {
      "cell_type": "code",
      "source": [
        "new_df  = new_df.drop(columns=['pk', 'session','question', 'raw_json', \t'parsed_json'])"
      ],
      "metadata": {
        "id": "wgLYdbq1XnmI"
      },
      "execution_count": null,
      "outputs": []
    },
    {
      "cell_type": "code",
      "source": [
        "count = 0\n",
        "for index, row in new_df.iterrows():\n",
        "  if len(row['feedback']) < 10:\n",
        "    count += 1\n",
        "print(count)"
      ],
      "metadata": {
        "colab": {
          "base_uri": "https://localhost:8080/"
        },
        "id": "IUYQoQmwNWk4",
        "outputId": "d15b28e4-5c62-449f-fdcc-a0cfd50bcbf1"
      },
      "execution_count": null,
      "outputs": [
        {
          "output_type": "stream",
          "name": "stdout",
          "text": [
            "0\n"
          ]
        }
      ]
    },
    {
      "cell_type": "code",
      "source": [
        "new_df = new_df[new_df['feedback'].str.len() >= 10]\n",
        "new_df.reset_index(drop=True, inplace=True)"
      ],
      "metadata": {
        "id": "COSgYZ7HNcAu"
      },
      "execution_count": null,
      "outputs": []
    },
    {
      "cell_type": "code",
      "source": [
        "shuffled_df = new_df.sample(frac=1)\n",
        "subset_df = shuffled_df.iloc[:150]\n",
        "subset_df.to_csv('question_answer_feedback.csv', index=False)"
      ],
      "metadata": {
        "id": "jSznKaegYUWE"
      },
      "execution_count": null,
      "outputs": []
    }
  ]
}